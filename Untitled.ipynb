{
  "nbformat": 4,
  "nbformat_minor": 0,
  "metadata": {
    "colab": {
      "name": "Untitled",
      "provenance": [],
      "authorship_tag": "ABX9TyMKb+MMTiCD01HJ1DgCrpPR",
      "include_colab_link": true
    },
    "kernelspec": {
      "name": "python3",
      "display_name": "Python 3"
    }
  },
  "cells": [
    {
      "cell_type": "markdown",
      "metadata": {
        "id": "view-in-github",
        "colab_type": "text"
      },
      "source": [
        "<a href=\"https://colab.research.google.com/github/buerfan/CricketWorldCUpFixture/blob/master/Untitled.ipynb\" target=\"_parent\"><img src=\"https://colab.research.google.com/assets/colab-badge.svg\" alt=\"Open In Colab\"/></a>"
      ]
    },
    {
      "cell_type": "code",
      "metadata": {
        "id": "Bi23FB7Kad9m",
        "colab_type": "code",
        "colab": {
          "base_uri": "https://localhost:8080/",
          "height": 34
        },
        "outputId": "36eeb00b-158e-45a9-a3e4-1cb788bbadae"
      },
      "source": [
        "def insertionSort(A):\n",
        "  length=len(A)\n",
        "\n",
        "  for j in range(1,length):\n",
        "    key=A[j]\n",
        "    i=j-1\n",
        "    while i>-1 and A[i]>key:\n",
        "      A[i+1]=A[i]\n",
        "      i=i-1\n",
        "    A[i+1]=key\n",
        "\n",
        "  print(A)\n",
        "\n",
        "\n",
        "def selectionSort(A):\n",
        "  # write down the algo of selection sort\n",
        "\n",
        "\n",
        "def bubbleSort(A):\n",
        "  # write down the algo of bubble sort\n",
        "\n",
        "  \n",
        "def mergeSort(A):\n",
        "  # write down the algo of merge sort\n",
        "\n",
        "  \n",
        "def countingSort(A):\n",
        "  # write down the algo of counting sort\n",
        "A=[12,1,23,4,34,11,49]\n",
        "insertionSort(A)\n",
        "\n",
        "\n"
      ],
      "execution_count": 15,
      "outputs": [
        {
          "output_type": "stream",
          "text": [
            "[1, 4, 11, 12, 23, 34, 49]\n"
          ],
          "name": "stdout"
        }
      ]
    }
  ]
}